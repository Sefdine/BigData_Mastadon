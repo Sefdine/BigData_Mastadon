{
 "cells": [
  {
   "cell_type": "code",
   "execution_count": 8,
   "metadata": {},
   "outputs": [],
   "source": [
    "# Import necessary packages\n",
    "import requests\n",
    "import time\n",
    "from mastodon import Mastodon\n",
    "from dotenv import load_dotenv\n",
    "import os\n",
    "import re\n",
    "import json\n",
    "from hdfs import InsecureClient\n",
    "\n",
    "# Create an instance of mastodon\n",
    "mastodon = Mastodon(\n",
    "    client_id=os.getenv('client_id'),\n",
    "    client_secret=os.getenv('client_secret'),\n",
    "    access_token=os.getenv('access_token'),\n",
    "    api_base_url='https://mastodon.social'\n",
    ")\n",
    "\n",
    "my_account = mastodon.account_verify_credentials()"
   ]
  },
  {
   "cell_type": "code",
   "execution_count": 24,
   "metadata": {},
   "outputs": [
    {
     "name": "stdout",
     "output_type": "stream",
     "text": [
      "The length of the data is 4039\r"
     ]
    }
   ],
   "source": [
    "# Initialize an empty list\n",
    "mastodon_data = []\n",
    "\n",
    "while True:\n",
    "    # Retrieve the last id from last_id_file\n",
    "    last_id_file = 'last_id.txt'\n",
    "    with open(last_id_file, 'r') as f:\n",
    "        last_id = f.read()\n",
    "\n",
    "    # Replace id by none if not exists\n",
    "    if not last_id:\n",
    "        last_id = None\n",
    "\n",
    "    # Retrieve data from mastodon api\n",
    "    currently_data = mastodon.timeline_public(limit=40, since_id=last_id)\n",
    "\n",
    "    # Put the last retrieved id in the last_id file\n",
    "    with open(last_id_file, 'w') as f:\n",
    "        f.write(str(currently_data[-1]['id']))\n",
    "    \n",
    "    # Extend the data \n",
    "    mastodon_data.extend(currently_data)\n",
    "\n",
    "    print(f\"The length of the data is {len(mastodon_data)}\", end='\\r')\n",
    "\n",
    "    if len(mastodon_data) >= 4000:\n",
    "        break\n"
   ]
  },
  {
   "cell_type": "code",
   "execution_count": 6,
   "metadata": {},
   "outputs": [
    {
     "name": "stdout",
     "output_type": "stream",
     "text": [
      "End of process data is 1040\n"
     ]
    }
   ],
   "source": [
    "# Define parameters\n",
    "params = {\n",
    "    'limit': 40\n",
    "}\n",
    "\n",
    "# Request the api\n",
    "response = requests.get('https://mastodon.social/api/v1/timelines/public', params)\n",
    "\n",
    "mastodon_data = []\n",
    "if (response.status_code) == 200:\n",
    "    actual_data = response.json()\n",
    "mastodon_data.extend(actual_data)\n",
    "\n",
    "list_links = []\n",
    "\n",
    "# Establish a connection to HDFS\n",
    "client = InsecureClient('http://localhost:9870', user='hadoop')\n",
    "\n",
    "while(True):\n",
    "\n",
    "    # Retrieve next link\n",
    "    next_link = re.search(r'<(.*?)>; rel=\"next\"', response.headers['link']).group(1)\n",
    "\n",
    "    if next_link in list_links:\n",
    "        break\n",
    "\n",
    "    list_links.append(next_link)\n",
    "\n",
    "    try:\n",
    "        # Fetch next link\n",
    "        response = requests.get(next_link, params)\n",
    "\n",
    "        # Process if status is 200 and get the new data\n",
    "        if (response.status_code) == 200:\n",
    "            actual_data = response.json()\n",
    "        mastodon_data.extend(actual_data)\n",
    "\n",
    "        # Print the current length\n",
    "        print(f\"The len of the data is {len(mastodon_data)}\", end='\\r')\n",
    "\n",
    "        # Break if len reached\n",
    "        if len(mastodon_data) > 1000:\n",
    "            break\n",
    "    except: \n",
    "        # Break in errors occurs\n",
    "        print('Failed to fetch next link')\n",
    "        break\n",
    "\n",
    "\n",
    "# Transform data into a JSON file\n",
    "file_path = 'mastodon_data.json'\n",
    "with open(file_path, 'w') as file:\n",
    "    json.dump(mastodon_data, file)\n",
    "\n",
    "# Load the JSON file into HDFS\n",
    "client.upload('/hadoop/data/raw/mastodon_data.json', file_path)\n",
    "\n",
    "# End of process\n",
    "print('End of process')"
   ]
  }
 ],
 "metadata": {
  "kernelspec": {
   "display_name": "Python 3",
   "language": "python",
   "name": "python3"
  },
  "language_info": {
   "codemirror_mode": {
    "name": "ipython",
    "version": 3
   },
   "file_extension": ".py",
   "mimetype": "text/x-python",
   "name": "python",
   "nbconvert_exporter": "python",
   "pygments_lexer": "ipython3",
   "version": "3.10.12"
  }
 },
 "nbformat": 4,
 "nbformat_minor": 2
}
